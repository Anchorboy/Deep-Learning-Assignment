{
 "cells": [
  {
   "cell_type": "code",
   "execution_count": 1,
   "metadata": {},
   "outputs": [
    {
     "name": "stdout",
     "output_type": "stream",
     "text": [
      "load data\n",
      "Extracting ./MNIST_data/train-images-idx3-ubyte.gz\n",
      "Extracting ./MNIST_data/train-labels-idx1-ubyte.gz\n",
      "Extracting ./MNIST_data/t10k-images-idx3-ubyte.gz\n",
      "Extracting ./MNIST_data/t10k-labels-idx1-ubyte.gz\n"
     ]
    }
   ],
   "source": [
    "import tensorflow as tf\n",
    "import numpy as np\n",
    "\n",
    "from tensorflow.examples.tutorials.mnist import input_data\n",
    "print(\"load data\")\n",
    "mnist = input_data.read_data_sets(\"./MNIST_data/\", one_hot=True)"
   ]
  },
  {
   "cell_type": "markdown",
   "metadata": {},
   "source": [
    "load數據"
   ]
  },
  {
   "cell_type": "code",
   "execution_count": 2,
   "metadata": {
    "collapsed": true
   },
   "outputs": [],
   "source": [
    "def rnn():\n",
    "    n_inputs = 28\n",
    "    n_steps = 28\n",
    "    n_hidden = 128\n",
    "    n_classes = 10\n",
    "\n",
    "    graph = tf.Graph()\n",
    "    with graph.as_default():\n",
    "        # x = None x n_steps x n_inputs\n",
    "        x = tf.placeholder(dtype=tf.float32, shape=[None, n_steps, n_inputs])\n",
    "        y = tf.placeholder(dtype=tf.float32, shape=[None, n_classes])\n",
    "\n",
    "        W = tf.Variable(tf.random_normal([n_hidden, n_classes]))\n",
    "        b = tf.Variable(tf.random_normal([n_classes]))"
   ]
  },
  {
   "cell_type": "markdown",
   "metadata": {},
   "source": [
    "x = batch_size x n_steps x n_inpts\n",
    "y = batch_size x n_classes\n",
    "\n",
    "W = n_hidden x n_classes\n",
    "b = n_classes\n",
    "\n",
    "x輸入為一個batch"
   ]
  },
  {
   "cell_type": "code",
   "execution_count": null,
   "metadata": {
    "collapsed": true
   },
   "outputs": [],
   "source": [
    "basic_rnn_cell = tf.nn.rnn_cell.BasicRNNCell(n_hidden)\n",
    "        # h = batch_size x n_steps x n_hidden\n",
    "        # W = n_hidden x n_classes\n",
    "        h, states = tf.nn.dynamic_rnn(basic_rnn_cell, x, dtype=tf.float32)\n",
    "        # h_T = n_steps x None x hidden_size\n",
    "        h_transpose = tf.transpose(h, [1, 0, 2])\n",
    "        # last = None x hidden_size\n",
    "        # select the last hidden cell in every batch\n",
    "        last = tf.gather(h_transpose, int(h_transpose.get_shape()[0]) - 1)\n",
    "        print(tf.gather(h_transpose, int(h_transpose.get_shape()[0])))\n",
    "        print(last)\n",
    "        print(\"int\",int(h_transpose.get_shape()[0]) - 1)\n",
    "        print(\"type of outputs: %s\" % type(h))\n",
    "        # print(\"length of outputs: %d\" % len(h))\n",
    "        # print(\"shape of h[0]: %s\" % h[0].get_shape())\n",
    "        print(\"type of states: %s\" % type(states))\n",
    "        print(h, states)\n",
    "\n",
    "        h_fc = tf.matmul(last, W) + b\n",
    "        y_ = h_fc"
   ]
  }
 ],
 "metadata": {
  "kernelspec": {
   "display_name": "Python 2",
   "language": "python",
   "name": "python2"
  },
  "language_info": {
   "codemirror_mode": {
    "name": "ipython",
    "version": 2.0
   },
   "file_extension": ".py",
   "mimetype": "text/x-python",
   "name": "python",
   "nbconvert_exporter": "python",
   "pygments_lexer": "ipython2",
   "version": "2.7.10"
  }
 },
 "nbformat": 4,
 "nbformat_minor": 0
}